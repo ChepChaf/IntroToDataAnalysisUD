{
 "cells": [
  {
   "cell_type": "markdown",
   "metadata": {},
   "source": [
    "# Starting intro to data science in Udacity"
   ]
  },
  {
   "cell_type": "code",
   "execution_count": 1,
   "metadata": {
    "collapsed": true
   },
   "outputs": [],
   "source": [
    "import unicodecsv"
   ]
  },
  {
   "cell_type": "code",
   "execution_count": 47,
   "metadata": {
    "collapsed": true
   },
   "outputs": [],
   "source": [
    "def read_csv(filename):\n",
    "    with open(filename, \"rb\") as f:\n",
    "        reader = unicodecsv.DictReader(f)\n",
    "        return list(reader)\n",
    "\n",
    "enrollments = read_csv(\"enrollments.csv\")\n",
    "daily_engagements = read_csv(\"daily_engagement_full.csv\")\n",
    "project_submissions = read_csv(\"project_submissions.csv\")"
   ]
  },
  {
   "cell_type": "code",
   "execution_count": 3,
   "metadata": {
    "collapsed": true
   },
   "outputs": [],
   "source": [
    "daily_e_small = read_csv('daily_engagement.csv')"
   ]
  },
  {
   "cell_type": "code",
   "execution_count": 4,
   "metadata": {
    "collapsed": true
   },
   "outputs": [],
   "source": [
    "from datetime import datetime as dt\n",
    "\n",
    "def parse_date(date):\n",
    "    if date == '' or date == None: \n",
    "        return None\n",
    "    else:\n",
    "        if (type(date) != dt):\n",
    "            return dt.strptime(date, '%Y-%m-%d')\n",
    "        else:\n",
    "            return date\n",
    "    \n",
    "def parse_int(num):\n",
    "    if num == '' or num == None:\n",
    "        return None\n",
    "    else:\n",
    "        if (type(num) != int):\n",
    "            return int(num)\n",
    "        else:\n",
    "            return num\n",
    "def parse_float(num):\n",
    "    if num == '' or num == None:\n",
    "        return None\n",
    "    else:\n",
    "        if (type(num) != float):\n",
    "            return float(num)\n",
    "        else:\n",
    "            return num"
   ]
  },
  {
   "cell_type": "code",
   "execution_count": 5,
   "metadata": {},
   "outputs": [
    {
     "name": "stdout",
     "output_type": "stream",
     "text": [
      "{u'status': u'canceled', u'is_udacity': u'True', u'is_canceled': u'True', u'join_date': u'2014-11-10', u'account_key': u'448', u'cancel_date': u'2015-01-14', u'days_to_cancel': u'65'}\n"
     ]
    }
   ],
   "source": [
    "print (enrollments[0])"
   ]
  },
  {
   "cell_type": "code",
   "execution_count": 6,
   "metadata": {},
   "outputs": [
    {
     "name": "stdout",
     "output_type": "stream",
     "text": [
      "{u'lessons_completed': u'0.0', u'sibling_key': u'ud359', u'course_title': u'Intro to Data Science', u'has_visited': u'0.0', u'registration_date': u'2014-08-05', u'course_key': u'ud359-nd', u'total_minutes_visited': u'0.0', u'projects_completed': u'0.0', u'account_key': u'2257038596', u'acct': u'448', u'subscription_start': u'2014-11-05', u'utc_date': u'2014-11-05'}\n"
     ]
    }
   ],
   "source": [
    "print (daily_engagements[0])"
   ]
  },
  {
   "cell_type": "code",
   "execution_count": 7,
   "metadata": {},
   "outputs": [
    {
     "name": "stdout",
     "output_type": "stream",
     "text": [
      "{u'lesson_key': u'3176718735', u'processing_state': u'EVALUATED', u'account_key': u'256', u'assigned_rating': u'UNGRADED', u'completion_date': u'2015-01-16', u'creation_date': u'2015-01-14'}\n"
     ]
    }
   ],
   "source": [
    "print (project_submissions[0])"
   ]
  },
  {
   "cell_type": "code",
   "execution_count": 48,
   "metadata": {},
   "outputs": [
    {
     "name": "stdout",
     "output_type": "stream",
     "text": [
      "{u'status': u'canceled', u'is_udacity': True, u'is_canceled': True, u'join_date': datetime.datetime(2014, 11, 10, 0, 0), u'account_key': u'448', u'cancel_date': datetime.datetime(2015, 1, 14, 0, 0), u'days_to_cancel': 65}\n"
     ]
    }
   ],
   "source": [
    "for enrollment in enrollments:\n",
    "    enrollment['join_date'] = parse_date(enrollment['join_date'])\n",
    "    enrollment['cancel_date'] = parse_date(enrollment['cancel_date'])\n",
    "    enrollment['days_to_cancel'] = parse_int(enrollment['days_to_cancel'])\n",
    "    enrollment['is_udacity'] = enrollment['is_udacity'] == 'True' \n",
    "    enrollment['is_canceled'] = enrollment['is_canceled'] == 'True' \n",
    "print (enrollments[0])"
   ]
  },
  {
   "cell_type": "code",
   "execution_count": 49,
   "metadata": {},
   "outputs": [
    {
     "name": "stdout",
     "output_type": "stream",
     "text": [
      "{u'lessons_completed': 0, u'sibling_key': u'ud359', u'course_title': u'Intro to Data Science', u'has_visited': False, u'registration_date': datetime.datetime(2014, 8, 5, 0, 0), u'course_key': u'ud359-nd', u'total_minutes_visited': 0, u'projects_completed': 0, u'account_key': u'2257038596', u'acct': u'448', u'subscription_start': datetime.datetime(2014, 11, 5, 0, 0), u'utc_date': datetime.datetime(2014, 11, 5, 0, 0)}\n"
     ]
    }
   ],
   "source": [
    "for engagement in daily_engagements:\n",
    "    engagement['lessons_completed'] = parse_int(float(engagement['lessons_completed']))\n",
    "    #engagement['num_courses_visited'] = parse_int(float(engagement['num_courses_visited']))\n",
    "    engagement['total_minutes_visited'] = parse_float(engagement['total_minutes_visited'])\n",
    "    engagement['projects_completed'] = parse_int(float(engagement['projects_completed']))\n",
    "    engagement['utc_date'] = parse_date(engagement['utc_date'])\n",
    "    engagement['has_visited'] = engagement['has_visited'] == '1.0'\n",
    "    engagement['registration_date'] = parse_date(engagement['registration_date'])\n",
    "    engagement['total_minutes_visited'] = parse_int(float(engagement['total_minutes_visited']))\n",
    "    engagement['subscription_start'] = parse_date(engagement['subscription_start'])\n",
    "print (daily_engagements[0])"
   ]
  },
  {
   "cell_type": "code",
   "execution_count": 130,
   "metadata": {
    "collapsed": true
   },
   "outputs": [],
   "source": [
    "for engagement in daily_e_small:\n",
    "    engagement['utc_date'] = parse_date(engagement['utc_date'])"
   ]
  },
  {
   "cell_type": "code",
   "execution_count": 50,
   "metadata": {},
   "outputs": [
    {
     "name": "stdout",
     "output_type": "stream",
     "text": [
      "{u'lesson_key': u'3176718735', u'processing_state': u'EVALUATED', u'account_key': u'256', u'assigned_rating': u'UNGRADED', u'completion_date': datetime.datetime(2015, 1, 16, 0, 0), u'creation_date': datetime.datetime(2015, 1, 14, 0, 0)}\n"
     ]
    }
   ],
   "source": [
    "for submission in project_submissions:\n",
    "    submission['completion_date'] = parse_date(submission['completion_date'])\n",
    "    submission['creation_date'] = parse_date(submission['creation_date'])\n",
    "print (project_submissions[0])"
   ]
  },
  {
   "cell_type": "markdown",
   "metadata": {},
   "source": [
    "## Questions:\n",
    "   ### - Paid users tend to complete more project than free users?\n",
    "   ### - How many users complete a course without login in every day?\n",
    "   ### - Are free users most likely to drop out the course?\n",
    "   ### - How many users complete lessons on more than a course in a day?\n",
    "   ### - Did any user spent time on a free related course in a day?"
   ]
  },
  {
   "cell_type": "markdown",
   "metadata": {},
   "source": [
    "## Investigating the data:"
   ]
  },
  {
   "cell_type": "markdown",
   "metadata": {},
   "source": [
    "#### Find the number of rows of each csv:"
   ]
  },
  {
   "cell_type": "code",
   "execution_count": 11,
   "metadata": {},
   "outputs": [
    {
     "data": {
      "text/plain": [
       "1640"
      ]
     },
     "execution_count": 11,
     "metadata": {},
     "output_type": "execute_result"
    }
   ],
   "source": [
    "len(enrollments)"
   ]
  },
  {
   "cell_type": "code",
   "execution_count": 12,
   "metadata": {},
   "outputs": [
    {
     "data": {
      "text/plain": [
       "2309239"
      ]
     },
     "execution_count": 12,
     "metadata": {},
     "output_type": "execute_result"
    }
   ],
   "source": [
    "len(daily_engagements)"
   ]
  },
  {
   "cell_type": "code",
   "execution_count": 13,
   "metadata": {},
   "outputs": [
    {
     "data": {
      "text/plain": [
       "3642"
      ]
     },
     "execution_count": 13,
     "metadata": {},
     "output_type": "execute_result"
    }
   ],
   "source": [
    "len(project_submissions)"
   ]
  },
  {
   "cell_type": "markdown",
   "metadata": {},
   "source": [
    "#### Find the number of unique students:"
   ]
  },
  {
   "cell_type": "code",
   "execution_count": 14,
   "metadata": {
    "collapsed": true
   },
   "outputs": [],
   "source": [
    "def get_unique_student(data):\n",
    "    data_account_keys = set()\n",
    "    for record in data:\n",
    "        data_account_keys.add(record['account_key'])\n",
    "    return data_account_keys"
   ]
  },
  {
   "cell_type": "code",
   "execution_count": 15,
   "metadata": {},
   "outputs": [
    {
     "name": "stdout",
     "output_type": "stream",
     "text": [
      "1302\n",
      "1237\n",
      "743\n"
     ]
    }
   ],
   "source": [
    "enrollment_account_keys = get_unique_student(enrollments)\n",
    "engagement_account_keys = get_unique_student(daily_engagements)\n",
    "submission_account_keys = get_unique_student(project_submissions)\n",
    "\n",
    "print (len(enrollment_account_keys))\n",
    "print (len(engagement_account_keys))\n",
    "print (len(submission_account_keys))"
   ]
  },
  {
   "cell_type": "markdown",
   "metadata": {},
   "source": [
    "#### Problems with this data: \n",
    "    - There are more unique stundents in enrollment than in engagement\n",
    "    - In the course the is diference between two column names 'account_key' and 'acct' that doen's happens in this dataset"
   ]
  },
  {
   "cell_type": "code",
   "execution_count": 16,
   "metadata": {
    "collapsed": true
   },
   "outputs": [],
   "source": [
    "for engagement in daily_e_small:\n",
    "    engagement['account_key'] = engagement.pop('acct')"
   ]
  },
  {
   "cell_type": "code",
   "execution_count": 57,
   "metadata": {
    "collapsed": true
   },
   "outputs": [],
   "source": [
    "for engagement in daily_engagements:\n",
    "    engagement['account_pkey'] = engagement.pop('acct')"
   ]
  },
  {
   "cell_type": "code",
   "execution_count": 18,
   "metadata": {},
   "outputs": [
    {
     "data": {
      "text/plain": [
       "u'0'"
      ]
     },
     "execution_count": 18,
     "metadata": {},
     "output_type": "execute_result"
    }
   ],
   "source": [
    "daily_e_small[0]['account_key']"
   ]
  },
  {
   "cell_type": "markdown",
   "metadata": {},
   "source": [
    "#### Why are students missing from daily engagements?\n",
    "    - Identify surprising data points: Any enrollment record with no corresponding engagement data\n",
    "    - Print some surprising data points"
   ]
  },
  {
   "cell_type": "code",
   "execution_count": 36,
   "metadata": {},
   "outputs": [],
   "source": [
    "engagement_keys = set()\n",
    "surprising_points = []\n",
    "for engagement in daily_engagements:\n",
    "    engagement_keys.add(engagement['account_pkey'])\n",
    "for enrollment in enrollments:\n",
    "    if enrollment['account_key'] not in engagement_keys:\n",
    "        surprising_points.append(enrollment)"
   ]
  },
  {
   "cell_type": "code",
   "execution_count": 37,
   "metadata": {},
   "outputs": [
    {
     "data": {
      "text/plain": [
       "71"
      ]
     },
     "execution_count": 37,
     "metadata": {},
     "output_type": "execute_result"
    }
   ],
   "source": [
    "len(surprising_points)"
   ]
  },
  {
   "cell_type": "code",
   "execution_count": 35,
   "metadata": {},
   "outputs": [
    {
     "data": {
      "text/plain": [
       "{u'account_key': u'448',\n",
       " u'cancel_date': datetime.datetime(2015, 1, 14, 0, 0),\n",
       " u'days_to_cancel': 65,\n",
       " u'is_canceled': True,\n",
       " u'is_udacity': True,\n",
       " u'join_date': datetime.datetime(2014, 11, 10, 0, 0),\n",
       " u'status': u'canceled'}"
      ]
     },
     "execution_count": 35,
     "metadata": {},
     "output_type": "execute_result"
    }
   ],
   "source": [
    "surprising_points[0]"
   ]
  },
  {
   "cell_type": "code",
   "execution_count": null,
   "metadata": {},
   "outputs": [],
   "source": [
    "for point in surprising_points:\n",
    "    print point['days_to_cancel'] "
   ]
  },
  {
   "cell_type": "code",
   "execution_count": null,
   "metadata": {},
   "outputs": [],
   "source": [
    "for point in surprising_points:\n",
    "    print point['is_canceled']"
   ]
  },
  {
   "cell_type": "code",
   "execution_count": null,
   "metadata": {},
   "outputs": [],
   "source": [
    "for point in surprising_points:\n",
    "    print point['is_udacity']"
   ]
  },
  {
   "cell_type": "code",
   "execution_count": 40,
   "metadata": {},
   "outputs": [
    {
     "name": "stdout",
     "output_type": "stream",
     "text": [
      "3\n",
      "[{u'status': u'canceled', u'is_udacity': True, u'is_canceled': True, u'join_date': datetime.datetime(2015, 1, 10, 0, 0), u'account_key': u'1304', u'cancel_date': datetime.datetime(2015, 3, 10, 0, 0), u'days_to_cancel': 59}, {u'status': u'canceled', u'is_udacity': True, u'is_canceled': True, u'join_date': datetime.datetime(2015, 3, 10, 0, 0), u'account_key': u'1304', u'cancel_date': datetime.datetime(2015, 6, 17, 0, 0), u'days_to_cancel': 99}, {u'status': u'current', u'is_udacity': True, u'is_canceled': False, u'join_date': datetime.datetime(2015, 2, 25, 0, 0), u'account_key': u'1101', u'cancel_date': None, u'days_to_cancel': None}]\n"
     ]
    }
   ],
   "source": [
    "count = 0\n",
    "special_surprising_points = []\n",
    "for point in surprising_points:\n",
    "    if point['days_to_cancel'] > 1 or point['days_to_cancel'] == None:\n",
    "        count += 1\n",
    "        special_surprising_points.append(point)\n",
    "print count\n",
    "\n",
    "print special_surprising_points"
   ]
  },
  {
   "cell_type": "markdown",
   "metadata": {},
   "source": [
    "###### I conclude that most of the surprising data points are from:\n",
    "    - accounts that were canceled, most of them the same day of creation\n",
    "    - Weren't from udacity"
   ]
  },
  {
   "cell_type": "markdown",
   "metadata": {},
   "source": [
    "#### Remove dacity test accounts records"
   ]
  },
  {
   "cell_type": "code",
   "execution_count": 86,
   "metadata": {},
   "outputs": [
    {
     "data": {
      "text/plain": [
       "1622"
      ]
     },
     "execution_count": 86,
     "metadata": {},
     "output_type": "execute_result"
    }
   ],
   "source": [
    "len(enrollments)"
   ]
  },
  {
   "cell_type": "code",
   "execution_count": 84,
   "metadata": {},
   "outputs": [],
   "source": [
    "udacity_keys = set([x['account_key'] for x in enrollments if x['is_udacity']])"
   ]
  },
  {
   "cell_type": "code",
   "execution_count": 85,
   "metadata": {},
   "outputs": [
    {
     "data": {
      "text/plain": [
       "set()"
      ]
     },
     "execution_count": 85,
     "metadata": {},
     "output_type": "execute_result"
    }
   ],
   "source": [
    "udacity_keys"
   ]
  },
  {
   "cell_type": "code",
   "execution_count": 71,
   "metadata": {},
   "outputs": [
    {
     "name": "stdout",
     "output_type": "stream",
     "text": [
      "6\n",
      "2309239\n",
      "2299629\n"
     ]
    }
   ],
   "source": [
    "print(len(udacity_keys))\n",
    "print (len(daily_engagements))\n",
    "daily_engagements = [x for x in daily_engagements if x['account_pkey'] not in udacity_keys]\n",
    "print (len(daily_engagements))"
   ]
  },
  {
   "cell_type": "code",
   "execution_count": 102,
   "metadata": {},
   "outputs": [],
   "source": [
    "daily_e_small = [x for x in daily_e_small if x['account_key'] not in udacity_keys]"
   ]
  },
  {
   "cell_type": "code",
   "execution_count": 73,
   "metadata": {},
   "outputs": [
    {
     "name": "stdout",
     "output_type": "stream",
     "text": [
      "3642\n",
      "3634\n"
     ]
    }
   ],
   "source": [
    "print(len(project_submissions))\n",
    "project_submissions = [x for x in project_submissions if x['account_key'] not in udacity_keys]\n",
    "print(len(project_submissions))"
   ]
  },
  {
   "cell_type": "code",
   "execution_count": 83,
   "metadata": {},
   "outputs": [
    {
     "name": "stdout",
     "output_type": "stream",
     "text": [
      "1622\n",
      "1622\n"
     ]
    }
   ],
   "source": [
    "print(len(enrollments))\n",
    "enrollments = [x for x in enrollments if x['account_key'] not in udacity_keys]\n",
    "print(len(enrollments))"
   ]
  },
  {
   "cell_type": "markdown",
   "metadata": {},
   "source": [
    "### The Question: How do numbers in the daily engagement table differ for students who pass the first project?"
   ]
  },
  {
   "cell_type": "markdown",
   "metadata": {},
   "source": [
    "##### Students that haven't canceled or have been enrolled for more than 7 days"
   ]
  },
  {
   "cell_type": "code",
   "execution_count": 123,
   "metadata": {},
   "outputs": [],
   "source": [
    "paid_students = [[x['account_key'], x['join_date']] for x in enrollments if x['days_to_cancel'] == None or x['days_to_cancel'] > 7]\n",
    "paid_students_final = {}\n",
    "for v in paid_students:\n",
    "    if v[0] not in paid_students_final or v[1] > paid_students_final[v[0]]:\n",
    "        paid_students_final[v[0]] = v[1]\n",
    "paid_students = paid_students_final"
   ]
  },
  {
   "cell_type": "code",
   "execution_count": 124,
   "metadata": {},
   "outputs": [
    {
     "data": {
      "text/plain": [
       "995"
      ]
     },
     "execution_count": 124,
     "metadata": {},
     "output_type": "execute_result"
    }
   ],
   "source": [
    "len(paid_students)"
   ]
  },
  {
   "cell_type": "code",
   "execution_count": 125,
   "metadata": {
    "collapsed": true
   },
   "outputs": [],
   "source": [
    "def get_paid_students(data, key='account_key'):\n",
    "    return [x for x in data if x[key] in paid_students]"
   ]
  },
  {
   "cell_type": "code",
   "execution_count": 126,
   "metadata": {},
   "outputs": [
    {
     "name": "stdout",
     "output_type": "stream",
     "text": [
      "1293\n",
      "2281112\n",
      "3618\n"
     ]
    }
   ],
   "source": [
    "enrollments = get_paid_students(enrollments)\n",
    "daily_engagements = get_paid_students(daily_engagements, key='account_pkey')\n",
    "daily_e_small = get_paid_students(daily_e_small)\n",
    "project_submissions = get_paid_students(project_submissions)\n",
    "\n",
    "print(len(enrollments))\n",
    "print(len(daily_engagements))\n",
    "print(len(project_submissions))"
   ]
  },
  {
   "cell_type": "code",
   "execution_count": 127,
   "metadata": {
    "collapsed": true
   },
   "outputs": [],
   "source": [
    "def within_one_week(engagement_date, join_date):\n",
    "    time_delta = engagement_date - join_date\n",
    "    return time_delta.days < 7"
   ]
  },
  {
   "cell_type": "code",
   "execution_count": 132,
   "metadata": {},
   "outputs": [],
   "source": [
    "engagement_paid_first_week = [x for x in daily_e_small if within_one_week(x['utc_date'], paid_students[x['account_key']])]"
   ]
  },
  {
   "cell_type": "code",
   "execution_count": 133,
   "metadata": {},
   "outputs": [
    {
     "data": {
      "text/plain": [
       "21508"
      ]
     },
     "execution_count": 133,
     "metadata": {},
     "output_type": "execute_result"
    }
   ],
   "source": [
    "len(engagement_paid_first_week)"
   ]
  }
 ],
 "metadata": {
  "kernelspec": {
   "display_name": "Python 2",
   "language": "python",
   "name": "python2"
  },
  "language_info": {
   "codemirror_mode": {
    "name": "ipython",
    "version": 2
   },
   "file_extension": ".py",
   "mimetype": "text/x-python",
   "name": "python",
   "nbconvert_exporter": "python",
   "pygments_lexer": "ipython2",
   "version": "2.7.14"
  }
 },
 "nbformat": 4,
 "nbformat_minor": 2
}
